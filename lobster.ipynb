{
 "cells": [
  {
   "cell_type": "code",
   "execution_count": 1,
   "metadata": {},
   "outputs": [],
   "source": [
    "import pandas as pd\n",
    "import numpy as np\n",
    "import seaborn as sns\n",
    "import matplotlib.pyplot as plt\n",
    "import re\n",
    "import os\n",
    "import scipy.stats as stats\n",
    "from sklearn.model_selection import train_test_split\n",
    "import statsmodels.api as sm\n",
    "from sklearn.linear_model import LogisticRegression\n",
    "from sklearn.metrics import confusion_matrix, accuracy_score, precision_score, recall_score\n",
    "from scipy.stats import zscore\n",
    "from sklearn.cluster import KMeans\n",
    "from sklearn.metrics import silhouette_score\n",
    "from sklearn.preprocessing import StandardScaler\n",
    "from sklearn.linear_model import LinearRegression\n",
    "import uuid"
   ]
  },
  {
   "cell_type": "code",
   "execution_count": null,
   "metadata": {},
   "outputs": [],
   "source": [
    "os.path.isfile(\"caribbean_ports.csv\")\n",
    "caribbean_ports = pd.read_csv(\"caribbean_ports.csv\")\n",
    "os.path.isfile(\"cruise_cancellations.csv\")\n",
    "cruise_cancellations = pd.read_csv(\"cruise_cancellations.csv\")\n",
    "os.path.isfile(\"voyage_options.csv\")\n",
    "voyage_df = pd.read_csv(\"voyage_options.csv\")\n",
    "os.path.isfile(\"cruise_pics.csv\")\n",
    "ab_pics = pd.read_csv('cruise_pics.csv')"
   ]
  },
  {
   "cell_type": "markdown",
   "metadata": {},
   "source": [
    "## **I. Summary Stats**"
   ]
  },
  {
   "cell_type": "markdown",
   "metadata": {},
   "source": [
    "### **Dataset Summary**"
   ]
  },
  {
   "cell_type": "code",
   "execution_count": null,
   "metadata": {},
   "outputs": [],
   "source": [
    "caribbean_ports.describe()"
   ]
  },
  {
   "cell_type": "code",
   "execution_count": null,
   "metadata": {},
   "outputs": [],
   "source": [
    "caribbean_ports.head(5)"
   ]
  },
  {
   "cell_type": "markdown",
   "metadata": {},
   "source": [
    "### **Handling Missing Data and Impossible Values**"
   ]
  },
  {
   "cell_type": "code",
   "execution_count": null,
   "metadata": {},
   "outputs": [],
   "source": [
    "print(caribbean_ports.isna().sum().sort_values(ascending=False))"
   ]
  },
  {
   "cell_type": "code",
   "execution_count": null,
   "metadata": {},
   "outputs": [],
   "source": [
    "# Check for invalid avg_port_fee_usd\n",
    "print(caribbean_ports[caribbean_ports['avg_port_fee_usd'] < 0])\n",
    "\n",
    "# Check for invalid local_attractions_score\n",
    "print(caribbean_ports[(caribbean_ports['local_attractions_score'] < 1) | (caribbean_ports['local_attractions_score'] > 10)])\n",
    "\n",
    "# Check for invalid avg_customer_satisfaction\n",
    "print(caribbean_ports[(caribbean_ports['avg_customer_satisfaction'] < 1) | (caribbean_ports['avg_customer_satisfaction'] > 10)])\n",
    "\n",
    "# Check for invalid avg_disembark_rate\n",
    "print(caribbean_ports[(caribbean_ports['avg_disembark_rate'] < 0) | (caribbean_ports['avg_disembark_rate'] > 1)])\n",
    "\n",
    "# Check for invalid avg_shore_spend_per_passenger\n",
    "print(caribbean_ports[caribbean_ports['avg_shore_spend_per_passenger'] < 0])"
   ]
  },
  {
   "cell_type": "code",
   "execution_count": null,
   "metadata": {},
   "outputs": [],
   "source": [
    "def clean_group_mean(df, column, valid_min, valid_max):\n",
    "    valid = df[(df[column] >= valid_min) & (df[column] <= valid_max)]\n",
    "    return valid.groupby('country_or_territory')[column].transform('mean')\n",
    "\n",
    "# 1. avg_port_fee_usd (should be >= 0)\n",
    "mask = caribbean_ports['avg_port_fee_usd'] < 0\n",
    "valid_means = clean_group_mean(caribbean_ports, 'avg_port_fee_usd', 0, float('inf'))\n",
    "caribbean_ports.loc[mask, 'avg_port_fee_usd'] = valid_means[mask]\n",
    "\n",
    "# 2. local_attractions_score (1–10)\n",
    "mask = (caribbean_ports['local_attractions_score'] < 1) | (caribbean_ports['local_attractions_score'] > 10)\n",
    "valid_means = clean_group_mean(caribbean_ports, 'local_attractions_score', 1, 10)\n",
    "caribbean_ports.loc[mask, 'local_attractions_score'] = valid_means[mask]\n",
    "\n",
    "# 3. avg_customer_satisfaction (1–10)\n",
    "mask = (caribbean_ports['avg_customer_satisfaction'] < 1) | (caribbean_ports['avg_customer_satisfaction'] > 10)\n",
    "valid_means = clean_group_mean(caribbean_ports, 'avg_customer_satisfaction', 1, 10)\n",
    "caribbean_ports.loc[mask, 'avg_customer_satisfaction'] = valid_means[mask]\n",
    "\n",
    "# 4. avg_disembark_rate (0–1)\n",
    "mask = (caribbean_ports['avg_disembark_rate'] < 0) | (caribbean_ports['avg_disembark_rate'] > 1)\n",
    "valid_means = clean_group_mean(caribbean_ports, 'avg_disembark_rate', 0, 1)\n",
    "caribbean_ports.loc[mask, 'avg_disembark_rate'] = valid_means[mask]\n",
    "\n",
    "# 5. avg_shore_spend_per_passenger (>= 0)\n",
    "mask = caribbean_ports['avg_shore_spend_per_passenger'] < 0\n",
    "valid_means = clean_group_mean(caribbean_ports, 'avg_shore_spend_per_passenger', 0, float('inf'))\n",
    "caribbean_ports.loc[mask, 'avg_shore_spend_per_passenger'] = valid_means[mask]"
   ]
  },
  {
   "cell_type": "code",
   "execution_count": null,
   "metadata": {},
   "outputs": [],
   "source": [
    "caribbean_ports.describe()"
   ]
  },
  {
   "cell_type": "markdown",
   "metadata": {},
   "source": [
    "During the data validation process, no missing (null) values were found across any columns in the caribbean_ports dataset. However, upon further inspection using summary statistics, several variables contained impossible values outside their expected ranges, such as negative port fees, customer satisfaction scores above 10, and disembarkation rates exceeding 1. To address these issues, invalid entries were imputed by replacing them with the mean of valid values from the same country_or_territory. This ensured that the corrections respected the appropriate business logic while maintaining consistency within each country group."
   ]
  },
  {
   "cell_type": "markdown",
   "metadata": {},
   "source": [
    "### **Insights**"
   ]
  },
  {
   "cell_type": "code",
   "execution_count": null,
   "metadata": {},
   "outputs": [],
   "source": [
    "region_visitors = caribbean_ports.groupby('region')['avg_annual_visitors'].mean()\n",
    "print(region_visitors)"
   ]
  },
  {
   "cell_type": "markdown",
   "metadata": {},
   "source": [
    "Ports in the Southern Caribbean attract the highest average number of annual visitors (over 812,000), followed by the Eastern Caribbean. In contrast, the Bahamas and Western regions receive significantly fewer visitors on average."
   ]
  },
  {
   "cell_type": "code",
   "execution_count": null,
   "metadata": {},
   "outputs": [],
   "source": [
    "port_type_spend = caribbean_ports.groupby('port_type')['avg_shore_spend_per_passenger'].mean()\n",
    "print(port_type_spend)"
   ]
  },
  {
   "cell_type": "markdown",
   "metadata": {},
   "source": [
    "Passengers tend to spend the most at Major ports (123.65 USD on average), followed closely by Boutique and Eco/Nature ports. Private ports show the lowest average shore spending at about 93.09 USD per passenger."
   ]
  },
  {
   "cell_type": "code",
   "execution_count": null,
   "metadata": {},
   "outputs": [],
   "source": [
    "pivot_cust_sat = caribbean_ports.pivot_table(values='avg_customer_satisfaction', index='region', columns='port_type', aggfunc='mean')\n",
    "print(pivot_cust_sat)"
   ]
  },
  {
   "cell_type": "markdown",
   "metadata": {},
   "source": [
    "Customer satisfaction is highest at Boutique ports across all regions, especially in the Bahamas with an average score of 9.21. Major ports generally receive lower satisfaction scores compared to Boutique and Private ports. The missing values in the pivot table occur because there are no Eco/Nature ports in the Bahamas and no Major ports in the Southern region."
   ]
  },
  {
   "cell_type": "code",
   "execution_count": null,
   "metadata": {},
   "outputs": [],
   "source": [
    "top_satisfaction = caribbean_ports[['country_or_territory', 'avg_customer_satisfaction']].sort_values(by='avg_customer_satisfaction', ascending=False).head(5)\n",
    "print(top_satisfaction)"
   ]
  },
  {
   "cell_type": "markdown",
   "metadata": {},
   "source": [
    "Honduras stands out with the highest average customer satisfaction score (9.96), followed by Mexico, the British Virgin Islands, Grenada, and the Bahamas, all with scores above 9.5. These ports appear to offer the most positive experiences for cruise passengers."
   ]
  },
  {
   "cell_type": "code",
   "execution_count": null,
   "metadata": {},
   "outputs": [],
   "source": [
    "top_attractions = caribbean_ports[['port_name', 'country_or_territory', 'local_attractions_score']] \\\n",
    "    .sort_values(by='local_attractions_score', ascending=False) \\\n",
    "    .head(5)\n",
    "\n",
    "print(top_attractions)"
   ]
  },
  {
   "cell_type": "markdown",
   "metadata": {},
   "source": [
    "Progreso and Port Antonio stand out with the highest local attractions scores (9.0), followed closely by Half Moon Cay, St. Lucia, and Bimini with scores of 8.0. This suggests these ports offer a broader range of attractions compared to other Caribbean destinations."
   ]
  },
  {
   "cell_type": "code",
   "execution_count": null,
   "metadata": {},
   "outputs": [],
   "source": [
    "country_summary = caribbean_ports.groupby('country_or_territory').agg(\n",
    "    total_annual_visitors=('avg_annual_visitors', 'sum'),\n",
    "    avg_customer_satisfaction=('avg_customer_satisfaction', 'mean')\n",
    ").reset_index()\n",
    "\n",
    "country_summary = country_summary.sort_values(by='avg_customer_satisfaction', ascending=False)\n",
    "\n",
    "print(country_summary)"
   ]
  },
  {
   "cell_type": "markdown",
   "metadata": {},
   "source": [
    "British Virgin Islands and Grenada report the highest average customer satisfaction scores, each achieving 9.56. Despite not having the highest visitor volumes, these destinations offer experiences that passengers rate extremely highly. In contrast, larger markets such as the Dominican Republic and Venezuela attract significant numbers of visitors but show noticeably lower satisfaction levels, suggesting that higher traffic does not always translate into better passenger experiences."
   ]
  },
  {
   "cell_type": "markdown",
   "metadata": {},
   "source": [
    "### **Findings**"
   ]
  },
  {
   "cell_type": "markdown",
   "metadata": {},
   "source": [
    "The exploratory analysis indicates that cruise passengers are most attracted to ports offering a combination of strong local attractions and specialized experiences, such as Boutique ports. Regions with higher visitor volumes, like the Southern and Eastern Caribbean, do not necessarily correlate with higher customer satisfaction, suggesting that passenger experience is more closely tied to port characteristics than to overall traffic. Ports classified as Major drive the highest shore spending, yet their satisfaction scores tend to be lower compared to Boutique and Private ports, highlighting a potential trade-off between economic gain and visitor experience. At the country level, smaller territories such as the British Virgin Islands and Grenada report the highest customer satisfaction scores, while larger markets like the Dominican Republic and Venezuela show noticeably lower ratings. Furthermore, the identification and correction of invalid data ensured that conclusions were based on consistent and realistic figures. The results suggest that enhancing local attractions and improving specialized experiences could be more effective strategies for ports aiming to increase both visitor satisfaction and economic impact. However, it is important to note that the dataset had some initial inconsistencies, including impossible values for several key variables, which required careful correction. In addition, not all region and port type combinations were represented, potentially limiting the generalizability of some findings across the broader Caribbean cruise market.\n",
    "\n",
    "Based on the data, Lobster Land should prioritize partnering with or operating in Boutique ports, as they consistently receive the highest customer satisfaction scores across all regions. Although Major ports attract higher spending per passenger, Boutique ports strike a balance between strong spending and a superior passenger experience—an important factor for brand positioning. The Bahamas and Eastern Caribbean also stand out as attractive regions due to high visitor volumes and strong satisfaction scores. Additionally, ports like Progreso and Port Antonio, with top local attractions scores, suggest strong tourism value and engagement opportunities. Focusing on high-satisfaction, mid-to-high-spend destinations will help Lobster Land deliver a premium yet enjoyable cruise experience from day one."
   ]
  },
  {
   "cell_type": "markdown",
   "metadata": {},
   "source": [
    "## **II. Segmentation and Targeting**"
   ]
  },
  {
   "cell_type": "markdown",
   "metadata": {},
   "source": [
    "### **Data Loading and Exploration**"
   ]
  },
  {
   "cell_type": "code",
   "execution_count": null,
   "metadata": {},
   "outputs": [],
   "source": [
    "df = pd.read_csv('caribbean_ports.csv')\n",
    "print(\"\\nMissing Values:\")\n",
    "print(df.isnull().sum())"
   ]
  },
  {
   "cell_type": "code",
   "execution_count": null,
   "metadata": {},
   "outputs": [],
   "source": [
    "# Remove impossible values\n",
    "df = df[df['avg_annual_visitors'] >= 0]\n",
    "df = df[df['avg_port_fee_usd'] >= 0]\n",
    "df = df[df['avg_shore_spend_per_passenger'] >= 0]\n",
    "df = df[(df['avg_customer_satisfaction'] >= 1) & (df['avg_customer_satisfaction'] <= 10)]\n",
    "df = df[(df['local_attractions_score'] >= 1) & (df['local_attractions_score'] <= 10)]\n",
    "df = df[(df['avg_disembark_rate'] >= 0) & (df['avg_disembark_rate'] <= 1)]"
   ]
  },
  {
   "cell_type": "code",
   "execution_count": null,
   "metadata": {},
   "outputs": [],
   "source": [
    "# Summary statistics for numeric variables\n",
    "numeric_cols = [\n",
    "    'avg_annual_visitors', 'avg_port_fee_usd', 'local_attractions_score',\n",
    "    'avg_customer_satisfaction', 'excursion_variety_index', 'avg_disembark_rate',\n",
    "    'avg_shore_spend_per_passenger', 'seasonality_score', 'latitude', 'longitude'\n",
    "]\n",
    "# Standardize the features\n",
    "scaler = StandardScaler()\n",
    "X_scaled = scaler.fit_transform(df[numeric_cols])\n",
    "\n",
    "print(\"\\nSummary Statistics for Numeric Variables after Cleaning:\")\n",
    "df[numeric_cols].describe()"
   ]
  },
  {
   "cell_type": "code",
   "execution_count": null,
   "metadata": {},
   "outputs": [],
   "source": [
    "# Elbow Method to find optimal k\n",
    "inertia = []\n",
    "k_range = range(2, 11)\n",
    "\n",
    "for k in k_range:\n",
    "    kmeans = KMeans(n_clusters=k, random_state=42, n_init=10)\n",
    "    kmeans.fit(X_scaled)\n",
    "    inertia.append(kmeans.inertia_)\n",
    "\n",
    "# Plot elbow curve\n",
    "plt.figure(figsize=(8, 6))\n",
    "plt.plot(k_range, inertia, marker='o')\n",
    "plt.title('Elbow Method for Optimal k')\n",
    "plt.xlabel('Number of Clusters (k)')\n",
    "plt.ylabel('Inertia (Within-Cluster Sum of Squares)')\n",
    "plt.title('Elbow Method for Optimal k')\n",
    "plt.grid(True)\n",
    "plt.show()"
   ]
  },
  {
   "cell_type": "code",
   "execution_count": null,
   "metadata": {},
   "outputs": [],
   "source": [
    "final_kmeans = KMeans(n_clusters=7, random_state=42, n_init=10)\n",
    "df['cluster'] = final_kmeans.fit_predict(X_scaled)\n",
    "plt.figure(figsize=(8, 6))\n",
    "sns.scatterplot(x='avg_annual_visitors', y='avg_shore_spend_per_passenger', hue='cluster', palette='Set1', data=df)\n",
    "plt.title('Clusters: Annual Visitors vs Shore Spend per Passenger')\n",
    "plt.xlabel('Average Annual Visitors (millions)')\n",
    "plt.ylabel('Average Shore Spend per Passenger (USD)')\n",
    "plt.legend(title='Cluster')\n",
    "plt.grid(True)\n",
    "plt.show()"
   ]
  },
  {
   "cell_type": "markdown",
   "metadata": {},
   "source": [
    "*As per the elbow chart, the optimal value seems to be 7, but after our scatter plot of the cluster, the plots didn't seems to occupy these many clusters, as we can see the cluster 6 isn't able to show these many data points to so some analysis on that. hence, for this analysis, we will be using k as 6."
   ]
  }
 ],
 "metadata": {
  "kernelspec": {
   "display_name": "venv",
   "language": "python",
   "name": "python3"
  },
  "language_info": {
   "codemirror_mode": {
    "name": "ipython",
    "version": 3
   },
   "file_extension": ".py",
   "mimetype": "text/x-python",
   "name": "python",
   "nbconvert_exporter": "python",
   "pygments_lexer": "ipython3",
   "version": "3.13.1"
  }
 },
 "nbformat": 4,
 "nbformat_minor": 2
}
